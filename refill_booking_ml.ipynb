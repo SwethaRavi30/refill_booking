{
 "cells": [
  {
   "cell_type": "code",
   "execution_count": 1,
   "metadata": {},
   "outputs": [],
   "source": [
    "import numpy as np\n",
    "from sklearn.linear_model import LinearRegression\n",
    "import matplotlib.pyplot as plt\n",
    "from sklearn.metrics import mean_squared_error, r2_score\n",
    "from sklearn.model_selection import train_test_split"
   ]
  },
  {
   "cell_type": "code",
   "execution_count": 2,
   "metadata": {},
   "outputs": [
    {
     "name": "stdout",
     "output_type": "stream",
     "text": [
      "['august-20.csv', 'july-20.csv', 'Nov-20.csv', 'oct-20.csv', 'sep-20.csv']\n"
     ]
    }
   ],
   "source": [
    "import os\n",
    "import glob\n",
    "import pandas as pd\n",
    "os.chdir(\"D:/ml project/refill_booking\")\n",
    "extension = 'csv'\n",
    "all_filenames = [i for i in glob.glob('*.{}'.format(extension))]\n",
    "print(all_filenames)\n",
    "#combine all files in the list\n",
    "final_csv = pd.concat([pd.read_csv(f) for f in all_filenames ])\n",
    "#export to csv\n",
    "final_csv.to_csv( \"final_csv.csv\", index=False, encoding='utf-8-sig')\n",
    "\n"
   ]
  },
  {
   "cell_type": "code",
   "execution_count": 3,
   "metadata": {},
   "outputs": [],
   "source": [
    "# print(final_csv.columns)\n",
    "# print(final_csv.shape)"
   ]
  },
  {
   "cell_type": "code",
   "execution_count": 4,
   "metadata": {},
   "outputs": [
    {
     "name": "stdout",
     "output_type": "stream",
     "text": [
      "(106171, 32)\n"
     ]
    }
   ],
   "source": [
    "final_csv.dropna(subset = [\"Book Date\"], inplace=True)\n",
    "print(final_csv.shape)"
   ]
  },
  {
   "cell_type": "code",
   "execution_count": 5,
   "metadata": {},
   "outputs": [
    {
     "name": "stdout",
     "output_type": "stream",
     "text": [
      "       Book Date  freq\n",
      "0      7/27/2020   759\n",
      "1      7/31/2020   572\n",
      "2      7/31/2020   572\n",
      "3      7/29/2020   682\n",
      "4      7/31/2020   572\n",
      "...          ...   ...\n",
      "21196  9/29/2020   709\n",
      "21197  9/29/2020   709\n",
      "21198  9/29/2020   709\n",
      "21199  9/30/2020   704\n",
      "21200  9/30/2020   704\n",
      "\n",
      "[106171 rows x 2 columns]\n",
      "       Book Date  freq\n",
      "0      7/27/2020   759\n",
      "1      7/31/2020   572\n",
      "3      7/29/2020   682\n",
      "10     7/30/2020   603\n",
      "21      8/1/2020   678\n",
      "...          ...   ...\n",
      "12253  9/18/2020   733\n",
      "13048  9/19/2020   662\n",
      "13785  9/20/2020   454\n",
      "16294  9/24/2020   671\n",
      "17024  9/25/2020   611\n",
      "\n",
      "[164 rows x 2 columns]\n"
     ]
    }
   ],
   "source": [
    "final_csv['freq'] = final_csv.groupby('Book Date')['Book Date'].transform('count')\n",
    "# final_csv['Book Date'] = pd.to_datetime(final_csv['Book Date'])\n",
    "print(final_csv[['Book Date','freq']])\n",
    "\n",
    "data = [final_csv[\"Book Date\"], final_csv[\"freq\"]]\n",
    "headers = [\"Book Date\", \"freq\"]\n",
    "reg_df = pd.concat(data, axis=1, keys=headers)\n",
    "reg_df=reg_df.drop_duplicates()\n",
    "print(reg_df)"
   ]
  },
  {
   "cell_type": "code",
   "execution_count": 6,
   "metadata": {},
   "outputs": [],
   "source": [
    "jan=pd.read_csv('D:/jan-20.csv')\n",
    "# print(type(jan['Book Date']))\n",
    "# print(type(jan['freq']))\n",
    "# jan['Book Date'] = pd.to_datetime(jan['Book Date'])\n",
    "# print(jan.loc[jan['Book Date']=='01-02-2020'])\n",
    "reg_df=pd.concat([reg_df, jan], ignore_index=True, sort=True)\n",
    "# print(reg_df.loc[reg_df['Book Date']=='01-02-2020'])"
   ]
  },
  {
   "cell_type": "code",
   "execution_count": 7,
   "metadata": {},
   "outputs": [
    {
     "name": "stdout",
     "output_type": "stream",
     "text": [
      "     Book Date  freq\n",
      "0       737633   759\n",
      "1       737637   572\n",
      "2       737635   682\n",
      "3       737636   603\n",
      "4       737638   678\n",
      "..         ...   ...\n",
      "328     737601   723\n",
      "329     737602   720\n",
      "330     737603   634\n",
      "331     737605   702\n",
      "332     737606   845\n",
      "\n",
      "[333 rows x 2 columns]\n"
     ]
    }
   ],
   "source": [
    "daily_df=reg_df.copy()\n",
    "\n",
    "import datetime as dt\n",
    "daily_df['Book Date'] = pd.to_datetime(daily_df['Book Date'])\n",
    "# print(\"oooooooooooo\")\n",
    "# print(reg_df)\n",
    "daily_df['Book Date']=daily_df['Book Date'].map(dt.datetime.toordinal)\n",
    "# print(\"iiiiiiiiiiii\")\n",
    "print(daily_df)\n",
    "\n"
   ]
  },
  {
   "cell_type": "code",
   "execution_count": 8,
   "metadata": {},
   "outputs": [],
   "source": [
    "x=np.array(daily_df['Book Date']).reshape(-1,1)\n",
    "y=np.array(daily_df['freq']).reshape(-1,1)"
   ]
  },
  {
   "cell_type": "code",
   "execution_count": 9,
   "metadata": {},
   "outputs": [
    {
     "data": {
      "text/plain": [
       "<matplotlib.collections.PathCollection at 0x21917e1cd30>"
      ]
     },
     "execution_count": 9,
     "metadata": {},
     "output_type": "execute_result"
    },
    {
     "data": {
      "image/png": "[encoded data removed]",
      "text/plain": [
       "<Figure size 432x288 with 1 Axes>"
      ]
     },
     "metadata": {
      "needs_background": "light"
     },
     "output_type": "display_data"
    }
   ],
   "source": [
    "plt.scatter(x,y)"
   ]
  },
  {
   "cell_type": "code",
   "execution_count": 10,
   "metadata": {},
   "outputs": [
    {
     "name": "stdout",
     "output_type": "stream",
     "text": [
      "(333, 1) (333, 1)\n",
      "(266, 1) (266, 1)\n"
     ]
    },
    {
     "data": {
      "text/plain": [
       "<matplotlib.collections.PathCollection at 0x2191825ee50>"
      ]
     },
     "execution_count": 10,
     "metadata": {},
     "output_type": "execute_result"
    },
    {
     "data": {
      "image/png": "[encoded data removed]",
      "text/plain": [
       "<Figure size 432x288 with 1 Axes>"
      ]
     },
     "metadata": {
      "needs_background": "light"
     },
     "output_type": "display_data"
    }
   ],
   "source": [
    "from sklearn.metrics import mean_absolute_error\n",
    "from sklearn.neighbors import LocalOutlierFactor\n",
    "# print(x_train.shape, y_train.shape)\n",
    "# identify outliers in the training dataset\n",
    "print(x.shape,y.shape)\n",
    "lof = LocalOutlierFactor(n_neighbors=7,contamination=0.5)\n",
    "yhat = lof.fit_predict(x)\n",
    "# select all rows that are not outliers\n",
    "mask = yhat != -1\n",
    "x,y=x[mask],y[mask]\n",
    "print(x.shape,y.shape)\n",
    "plt.scatter(x,y)"
   ]
  },
  {
   "cell_type": "code",
   "execution_count": 11,
   "metadata": {},
   "outputs": [
    {
     "name": "stdout",
     "output_type": "stream",
     "text": [
      "(178, 1)\n"
     ]
    }
   ],
   "source": [
    "x_train,x_test,y_train,y_test=train_test_split(x,y,test_size=0.33,random_state=1)\n",
    "print(x_train.shape)"
   ]
  },
  {
   "cell_type": "code",
   "execution_count": 12,
   "metadata": {},
   "outputs": [
    {
     "name": "stdout",
     "output_type": "stream",
     "text": [
      "MAE: 126.642\n"
     ]
    }
   ],
   "source": [
    "# fit the model\n",
    "model1 = LinearRegression()\n",
    "model1.fit(x_train, y_train)\n",
    "# evaluate the model\n",
    "ypred= model1.predict(x_test)\n",
    "# evaluate predictions\n",
    "mae1 = mean_absolute_error(y_test, ypred)\n",
    "print('MAE: %.3f' % mae1)"
   ]
  },
  {
   "cell_type": "code",
   "execution_count": 13,
   "metadata": {},
   "outputs": [
    {
     "data": {
      "image/png": "[encoded data removed]",
      "text/plain": [
       "<Figure size 432x288 with 1 Axes>"
      ]
     },
     "metadata": {
      "needs_background": "light"
     },
     "output_type": "display_data"
    },
    {
     "name": "stdout",
     "output_type": "stream",
     "text": [
      "0.026636810376199582\n"
     ]
    }
   ],
   "source": [
    "y_pred=model1.predict(x_test)\n",
    "plt.scatter(x_test,y_test)\n",
    "plt.plot(x_test,ypred,color='red')\n",
    "plt.show()\n",
    "print(model1.score(x_test,y_test))"
   ]
  },
  {
   "cell_type": "code",
   "execution_count": 14,
   "metadata": {},
   "outputs": [],
   "source": [
    "# d=np.array(737603).reshape(-1,1)\n",
    "# print(model1.predict(d))"
   ]
  },
  {
   "cell_type": "code",
   "execution_count": 15,
   "metadata": {},
   "outputs": [],
   "source": [
    "# pd.set_option(\"display.max_rows\", None, \"display.max_columns\", None)\n",
    "# print(daily_df.sort_values(by=['Book Date']))\n"
   ]
  },
  {
   "cell_type": "code",
   "execution_count": 16,
   "metadata": {},
   "outputs": [],
   "source": [
    "import pickle\n",
    "filename='refill_booking_prediction_model.sav'\n",
    "pickle.dump(model1,open(filename,'wb'))"
   ]
  },
  {
   "cell_type": "code",
   "execution_count": 17,
   "metadata": {},
   "outputs": [
    {
     "name": "stdout",
     "output_type": "stream",
     "text": [
      "[[767.42371588]]\n"
     ]
    }
   ],
   "source": [
    "loaded_model = pickle.load(open(filename, 'rb'))\n",
    "d=np.array(737900).reshape(-1,1)\n",
    "print(loaded_model.predict(d)+119)"
   ]
  },
  {
   "cell_type": "code",
   "execution_count": 18,
   "metadata": {},
   "outputs": [
    {
     "name": "stdout",
     "output_type": "stream",
     "text": [
      "     Book Date  freq\n",
      "0    7/27/2020   759\n",
      "1    7/31/2020   572\n",
      "2    7/29/2020   682\n",
      "3    7/30/2020   603\n",
      "4     8/1/2020   678\n",
      "..         ...   ...\n",
      "328  6/25/2020   723\n",
      "329  6/26/2020   720\n",
      "330  6/27/2020   634\n",
      "331  6/29/2020   702\n",
      "332  6/30/2020   845\n",
      "\n",
      "[333 rows x 2 columns]\n"
     ]
    }
   ],
   "source": [
    "print(reg_df)"
   ]
  },
  {
   "cell_type": "code",
   "execution_count": 19,
   "metadata": {},
   "outputs": [],
   "source": [
    "week_df=reg_df.copy()\n",
    "week_df['Book Date'] = pd.to_datetime(week_df['Book Date'])\n",
    "# print(week_df)\n",
    "# week_df=reg_df.groupby('Book Date').resample('W-Mon',on='Book Date').sum().reset_index().sort_values(by='Book Date)')\n",
    "# print(week_df)"
   ]
  },
  {
   "cell_type": "code",
   "execution_count": 20,
   "metadata": {},
   "outputs": [],
   "source": [
    "week_df['WeekDate'] = week_df.apply(lambda row: row['Book Date'] - dt.timedelta(days=row['Book Date'].weekday()), axis=1)\n",
    "\n",
    "perweek = week_df['WeekDate'].groupby(week_df['WeekDate']).count()\n"
   ]
  },
  {
   "cell_type": "code",
   "execution_count": 21,
   "metadata": {},
   "outputs": [
    {
     "name": "stdout",
     "output_type": "stream",
     "text": [
      "    WeekDate  freq\n",
      "0     737423  3322\n",
      "1     737430  4513\n",
      "2     737437  2838\n",
      "3     737444  5154\n",
      "4     737451  4812\n",
      "5     737458  6178\n",
      "6     737465  5801\n",
      "7     737472  6705\n",
      "8     737479  5556\n",
      "9     737486  5389\n",
      "10    737493  5124\n",
      "11    737500  5323\n",
      "12    737507  4169\n",
      "13    737514  6339\n",
      "14    737521  5776\n",
      "15    737528  5302\n",
      "16    737535  4124\n",
      "17    737542  4272\n",
      "18    737549  6540\n",
      "19    737556  4096\n",
      "20    737563  3840\n",
      "21    737570  4080\n",
      "22    737577  4516\n",
      "23    737584  4557\n",
      "24    737591  3967\n",
      "25    737598  4520\n",
      "26    737605  5737\n",
      "27    737612  4395\n",
      "28    737619  4423\n",
      "29    737626  4291\n",
      "30    737633  4519\n",
      "31    737640  5367\n",
      "32    737647  4727\n",
      "33    737654  4489\n",
      "34    737661  4459\n",
      "35    737668  5245\n",
      "36    737675  4997\n",
      "37    737682  4610\n",
      "38    737689  4416\n",
      "39    737696  5281\n",
      "40    737703  5549\n",
      "41    737710  4946\n",
      "42    737717  4820\n",
      "43    737724  4730\n",
      "44    737731  5443\n",
      "45    737738  4428\n",
      "46    737745  5780\n",
      "47    737752  4837\n",
      "48    737759    29\n"
     ]
    }
   ],
   "source": [
    "# print(week_df.loc[week_df['WeekDate']==pd.to_datetime('1/27/2020')])\n",
    "week_df1=week_df.groupby(['WeekDate'])['freq'].sum().reset_index()\n",
    "\n",
    "week_df1['WeekDate']=week_df1['WeekDate'].map(dt.datetime.toordinal)\n",
    "# print(week_df1)"
   ]
  },
  {
   "cell_type": "code",
   "execution_count": 22,
   "metadata": {},
   "outputs": [
    {
     "data": {
      "text/plain": [
       "<matplotlib.collections.PathCollection at 0x2191854ebb0>"
      ]
     },
     "execution_count": 22,
     "metadata": {},
     "output_type": "execute_result"
    },
    {
     "data": {
      "image/png": "[encoded data removed]",
      "text/plain": [
       "<Figure size 432x288 with 1 Axes>"
      ]
     },
     "metadata": {
      "needs_background": "light"
     },
     "output_type": "display_data"
    }
   ],
   "source": [
    "week_x=np.array(week_df1['WeekDate']).reshape(-1,1)\n",
    "week_y=np.array(week_df1['freq']).reshape(-1,1)\n",
    "\n",
    "plt.scatter(week_x,week_y)\n"
   ]
  },
  {
   "cell_type": "code",
   "execution_count": 24,
   "metadata": {},
   "outputs": [
    {
     "name": "stdout",
     "output_type": "stream",
     "text": [
      "MAE: 708.111\n"
     ]
    }
   ],
   "source": [
    "# fit the model\n",
    "model2 = LinearRegression()\n",
    "model2.fit(week_x, week_y)\n",
    "# evaluate the model\n",
    "ypred= model2.predict(week_x)\n",
    "# evaluate predictions\n",
    "mae = mean_absolute_error(week_y, ypred)\n",
    "print('MAE: %.3f' % mae)"
   ]
  },
  {
   "cell_type": "code",
   "execution_count": 25,
   "metadata": {},
   "outputs": [
    {
     "data": {
      "image/png": "[encoded data removed]",
      "text/plain": [
       "<Figure size 432x288 with 1 Axes>"
      ]
     },
     "metadata": {
      "needs_background": "light"
     },
     "output_type": "display_data"
    },
    {
     "name": "stdout",
     "output_type": "stream",
     "text": [
      "0.02862886680747012\n"
     ]
    }
   ],
   "source": [
    "y_pred=model2.predict(week_x)\n",
    "plt.scatter(week_x,week_y)\n",
    "plt.plot(week_x,ypred,color='red')\n",
    "plt.show()\n",
    "print(model2.score(week_x,week_y))"
   ]
  },
  {
   "cell_type": "code",
   "execution_count": 26,
   "metadata": {},
   "outputs": [],
   "source": [
    "import pickle\n",
    "filename2='refill_booking_prediction_model_week.sav'\n",
    "pickle.dump(model2,open(filename2,'wb'))"
   ]
  },
  {
   "cell_type": "code",
   "execution_count": 27,
   "metadata": {},
   "outputs": [
    {
     "name": "stdout",
     "output_type": "stream",
     "text": [
      "[[5767.55106414]]\n"
     ]
    }
   ],
   "source": [
    "# loaded_model = pickle.load(open(filename2, 'rb'))\n",
    "# d=np.array(737100).reshape(-1,1)\n",
    "# print(loaded_model.predict(d)+119)"
   ]
  },
  {
   "cell_type": "code",
   "execution_count": null,
   "metadata": {},
   "outputs": [],
   "source": []
  }
 ],
 "metadata": {
  "kernelspec": {
   "display_name": "Python 3",
   "language": "python",
   "name": "python3"
  },
  "language_info": {
   "codemirror_mode": {
    "name": "ipython",
    "version": 3
   },
   "file_extension": ".py",
   "mimetype": "text/x-python",
   "name": "python",
   "nbconvert_exporter": "python",
   "pygments_lexer": "ipython3",
   "version": "3.8.5"
  }
 },
 "nbformat": 4,
 "nbformat_minor": 4
}
